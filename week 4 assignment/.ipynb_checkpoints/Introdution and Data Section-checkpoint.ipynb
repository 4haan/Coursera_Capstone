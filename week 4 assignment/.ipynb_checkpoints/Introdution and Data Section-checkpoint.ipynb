{
 "cells": [
  {
   "cell_type": "markdown",
   "metadata": {},
   "source": [
    "### Project Title: Exploring the Best Place to Live in North York, Toronto"
   ]
  },
  {
   "cell_type": "markdown",
   "metadata": {},
   "source": [
    "## 1. Introduction"
   ]
  },
  {
   "cell_type": "markdown",
   "metadata": {},
   "source": [
    "Toronto, is one of the most popular residential places for both local and non-local. As the captial city of the Canadian province of Ontario, Toronto has around a hundred of neighbourhoods distributed in several borough. In this project, I am focusing on North York, Toronto, to explore its popular shops, facilities and resepective clusters of distribution. It aims to provide a list of living place recommendation for non-local, who wish to move in North York.\n",
    "\n",
    "To understand North York, the following analysis will explore the borough's transport, culutral development, food and beverage industry, markets and recreational faciltities. Cuisine, shops and museum can give a broad picture of how people there live, thus a list of recommendation of living place is achievable.\n",
    "\n",
    "I hope the recommendation can provide information for non-local who considering move in to North York, and able to pick a suitable neighbourhoods they like."
   ]
  },
  {
   "cell_type": "markdown",
   "metadata": {},
   "source": [
    "## 2. Data Section"
   ]
  },
  {
   "cell_type": "markdown",
   "metadata": {},
   "source": [
    "I will use the following websites, csv file and application to search for data:\n",
    "\n",
    "a) Scrape this Wikipedia page https://en.wikipedia.org/wiki/List_of_postal_codes_of_Canada:_M for postal codes of Canada\n",
    "\n",
    "    To gather sufficient information about the borough 'North York' and its neighbourhoods.\n",
    "\n",
    "b) Download a csv file http://cocl.us/Geospatial_data for geographical coordinates of each postal code\n",
    "\n",
    "    To get the latitude and longitude of each borough and neighbourhoods, as to prepare for getting location data.\n",
    "\n",
    "c) Apply Foursquare API inlcuding my client ID and client secret for exploring and searching functions\n",
    "\n",
    "    To receive the location data of shops and facilities in North York, so that the result can provide information of neighbourhoods with different ways of living and culture.\n",
    "    \n",
    "d) Use JupyterLab, pandas, numpy, matplotlib, folium, geopy, sklearn, etc. to perform data analyze\n",
    "\n",
    "    To apply python in real-life situation and provide reader-friendly visualized result.\n",
    "    \n",
    "e) Utilize GitHub respository for notebook management\n",
    "\n",
    "    To perform version control and source code management effectively."
   ]
  },
  {
   "cell_type": "code",
   "execution_count": null,
   "metadata": {},
   "outputs": [],
   "source": []
  }
 ],
 "metadata": {
  "kernelspec": {
   "display_name": "Python 3",
   "language": "python",
   "name": "python3"
  },
  "language_info": {
   "codemirror_mode": {
    "name": "ipython",
    "version": 3
   },
   "file_extension": ".py",
   "mimetype": "text/x-python",
   "name": "python",
   "nbconvert_exporter": "python",
   "pygments_lexer": "ipython3",
   "version": "3.8.3"
  }
 },
 "nbformat": 4,
 "nbformat_minor": 4
}
